{
 "cells": [
  {
   "cell_type": "markdown",
   "metadata": {},
   "source": [
    "# 🧠 Intelligent Contextual Legal Verification System (ICLVS)\n",
    "### Demonstrative Runner — Functional Prototype\n",
    "\n",
    "This notebook illustrates the logical flow of the ICLVS framework:\n",
    "\n",
    "1. **Document Ingest**  → Receive legal text and metadata.\n",
    "2. **Contextual Reasoning**  → Detect jurisdiction and clause semantics.\n",
    "3. **Normative Adaptation**  → Align content with regulatory templates.\n",
    "4. **Traceability & Audit**  → Generate hash-based verification log.\n",
    "\n",
    "⚖️ *This demonstrative pipeline is suitable for evidentiary presentation before USCIS under the EB-2 NIW category.*"
   ]
  },
  {
   "cell_type": "code",
   "execution_count": null,
   "metadata": {},
   "outputs": [],
   "source": [
    "import json, re, hashlib, datetime\n",
    "\n",
    "# === 1. LOAD NORMATIVE DATA ===\n",
    "with open('normative_rules.json') as f:\n",
    "    RULES = json.load(f)\n",
    "\n",
    "jurisdictions = {j['name']: j for j in RULES['jurisdictions']}\n",
    "\n",
    "print(f\"Loaded {len(jurisdictions)} jurisdictions from normative dataset.\")"
   ]
  },
  {
   "cell_type": "code",
   "execution_count": null,
   "metadata": {},
   "outputs": [],
   "source": [
    "# === 2. CONTEXTUAL REASONING FUNCTION ===\n",
    "def verify_clause(text: str, jurisdiction: str) -> dict:\n",
    "    \"\"\"Analyzes clause under given jurisdictional rule set.\"\"\"\n",
    "    rules = jurisdictions.get(jurisdiction)\n",
    "    score = 50\n",
    "    detected = []\n",
    "\n",
    "    for ctype, cdata in rules['clause_types'].items():\n",
    "        for term in cdata['must_keywords']:\n",
    "            if re.search(term, text, re.I):\n",
    "                score += rules['weights']['must']\n",
    "                detected.append(term)\n",
    "        for term in cdata['avoid_keywords']:\n",
    "            if re.search(term, text, re.I):\n",
    "                score += rules['weights']['avoid']\n",
    "                detected.append(f\"⚠ {term}\")\n",
    "\n",
    "    score = max(RULES['scoring']['caps']['min'], min(RULES['scoring']['caps']['max'], score))\n",
    "    risk_band = 'Low' if score >= 75 else 'Medium' if score >= 55 else 'High'\n",
    "    digest = hashlib.sha256((text + jurisdiction).encode()).hexdigest()\n",
    "    return {\n",
    "        'jurisdiction': jurisdiction,\n",
    "        'risk_score': score,\n",
    "        'risk_band': risk_band,\n",
    "        'detected_terms': detected,\n",
    "        'trace_hash': digest,\n",
    "        'trace_id': f\"ICLVS-{datetime.datetime.now().strftime('%Y%m%d-%H%M%S')}\",\n",
    "        'timestamp_iso': datetime.datetime.now().isoformat()\n",
    "    }"
   ]
  },
  {
   "cell_type": "code",
   "execution_count": null,
   "metadata": {},
   "outputs": [],
   "source": [
    "# === 3. SAMPLE EXECUTION ===\n",
    "sample_clause = \"This Agreement shall be governed by the laws of Florida and venue shall be in Miami-Dade County. Either party may terminate for material breach not cured within 30 days.\"\n",
    "\n",
    "result = verify_clause(sample_clause, 'Florida')\n",
    "result"
   ]
  },
  {
   "cell_type": "code",
   "execution_count": null,
   "metadata": {},
   "outputs": [],
   "source": [
    "# === 4. NORMATIVE ADAPTATION ===\n",
    "jur = jurisdictions['Florida']\n",
    "adapted_text = jur['suggestion_block']\n",
    "\n",
    "print('--- Suggested Adapted Clause ---')\n",
    "print(adapted_text)\n",
    "print('\\nRisk Level:', result['risk_band'], '| Score:', result['risk_score'])"
   ]
  },
  {
   "cell_type": "code",
   "execution_count": null,
   "metadata": {},
   "outputs": [],
   "source": [
    "# === 5. TRACEABILITY LOG OUTPUT ===\n",
    "log_entry = {k: result[k] for k in RULES['output']['fields']}\n",
    "\n",
    "with open('iclvs_trace_log.json', 'w') as f:\n",
    "    json.dump(log_entry, f, indent=2)\n",
    "\n",
    "print('Trace log saved → iclvs_trace_log.json')\n",
    "print(json.dumps(log_entry, indent=2))"
   ]
  },
  {
   "cell_type": "markdown",
   "metadata": {},
   "source": [
    "### ✅ Demonstration Completed\n",
    "\n",
    "This notebook produces:\n",
    "- Clause verification results (jurisdictional risk score)\n",
    "- Adapted text suggestion from normative dataset\n",
    "- SHA-256 traceable log (`iclvs_trace_log.json`)\n",
    "\n",
    "⚖️ Use this output as **functional proof of system logic** and attach it as an evidentiary annex to your *White Paper* or *USCIS NIW submission*."
   ]
  }
 ],
 "metadata": {
  "kernelspec": {
   "display_name": "Python 3",
   "language": "python",
   "name": "python3"
  },
  "language_info": {
   "name": "python",
   "version": "3.10"
  }
 },
 "nbformat": 4,
 "nbformat_minor": 2
}
